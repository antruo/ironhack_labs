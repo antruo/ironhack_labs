{
 "cells": [
  {
   "cell_type": "code",
   "execution_count": 1,
   "metadata": {},
   "outputs": [],
   "source": [
    "import pandas as pd\n",
    "import numpy as np\n",
    "import seaborn as sns\n",
    "import random\n",
    "import uuid"
   ]
  },
  {
   "cell_type": "markdown",
   "metadata": {},
   "source": [
    "# Create mock data for A/B testing lab\n",
    "\n",
    "1. Create date range for experiment\n",
    "2. Generate random users (`anonymous_id`)\n",
    "3. Distribute random users across date range (build in in-week seasonality)\n",
    "4. Create subscriptions table with `user_id`s\n",
    "5. Create mapping table to connect `anonymous_id`s and `user_id`s\n",
    "6. Include users in experiment in subscription table\n",
    "\n",
    "**Create date range for experiment data**"
   ]
  },
  {
   "cell_type": "code",
   "execution_count": 2,
   "metadata": {},
   "outputs": [],
   "source": [
    "date_range = pd.date_range(\"2020-01-16\", \"2020-02-29\")"
   ]
  },
  {
   "cell_type": "code",
   "execution_count": 3,
   "metadata": {},
   "outputs": [],
   "source": [
    "experiment_start = \"2020-02-01\""
   ]
  },
  {
   "cell_type": "markdown",
   "metadata": {},
   "source": [
    "**Create random anonymous_ids and assign to each day**"
   ]
  },
  {
   "cell_type": "code",
   "execution_count": 4,
   "metadata": {},
   "outputs": [],
   "source": [
    "def create_anonymous_ids(n: int) -> list:\n",
    "    return [str(uuid.uuid4()) for i in range(n)]\n",
    "\n",
    "def daily_users(timestamp: pd.Timestamp) -> list:\n",
    "    in_week_seasonality = {0: 5.5,\n",
    "                           1: 5.3,\n",
    "                           2: 5,\n",
    "                           3: 5,\n",
    "                           4: 5,\n",
    "                           5: 4,\n",
    "                           6: 4}\n",
    "    magnitude = 8000\n",
    "    variation = .6\n",
    "    factor = in_week_seasonality[timestamp.dayofweek]\n",
    "    lower_bound = int((factor - variation) * magnitude)\n",
    "    upper_bound = int((factor + variation) * magnitude)\n",
    "    \n",
    "    return create_anonymous_ids(random.randint(lower_bound, upper_bound))\n",
    "\n",
    "def daily_users_per_variant(timestamp: pd.Timestamp) -> tuple:\n",
    "    in_week_seasonality = {0: 5.5,\n",
    "                           1: 5.3,\n",
    "                           2: 5,\n",
    "                           3: 5,\n",
    "                           4: 5,\n",
    "                           5: 4,\n",
    "                           6: 4}\n",
    "    magnitude = 1000\n",
    "    variation = .6\n",
    "    factor = in_week_seasonality[timestamp.dayofweek]\n",
    "    lower_bound = int((factor - variation) * magnitude)\n",
    "    upper_bound = int((factor + variation) * magnitude)\n",
    "    \n",
    "    exp_users = create_anonymous_ids(random.randint(lower_bound, upper_bound))\n",
    "    random.shuffle(exp_users)\n",
    "\n",
    "    split = int(len(exp_users) / (random.randint(1900, 2100) / 1000))\n",
    "    var_a = exp_users[:split]\n",
    "    var_b = exp_users[split:]\n",
    "    \n",
    "    return var_a, var_b\n",
    "    \n",
    "def insert_rows(df: pd.DataFrame,\n",
    "                users: list,\n",
    "                timestamp: pd.Timestamp,\n",
    "                exp_id: int) -> pd.DataFrame:\n",
    "    df2 = pd.DataFrame([{\"date_id\": timestamp,\n",
    "                         \"anonymous_id\": visitor,\n",
    "                         \"exp_id\": exp_id} for visitor in users])\n",
    "    return pd.concat([df, df2])"
   ]
  },
  {
   "cell_type": "code",
   "execution_count": 5,
   "metadata": {},
   "outputs": [],
   "source": [
    "first_pageview = pd.DataFrame(columns=[\"date_id\", \"anonymous_id\", \"exp_id\"])\n",
    "\n",
    "random.seed(111)\n",
    "for i in date_range:\n",
    "    users = daily_users(i)\n",
    "    var_a, var_b = daily_users_per_variant(i)\n",
    "    \n",
    "    # convert to DataFrame\n",
    "    first_pageview = insert_rows(first_pageview, users, i, np.nan)\n",
    "    first_pageview = insert_rows(first_pageview, var_a, i, 101)\n",
    "    first_pageview = insert_rows(first_pageview, var_b, i, 102)"
   ]
  },
  {
   "cell_type": "code",
   "execution_count": 6,
   "metadata": {},
   "outputs": [
    {
     "data": {
      "text/html": [
       "<div>\n",
       "<style scoped>\n",
       "    .dataframe tbody tr th:only-of-type {\n",
       "        vertical-align: middle;\n",
       "    }\n",
       "\n",
       "    .dataframe tbody tr th {\n",
       "        vertical-align: top;\n",
       "    }\n",
       "\n",
       "    .dataframe thead th {\n",
       "        text-align: right;\n",
       "    }\n",
       "</style>\n",
       "<table border=\"1\" class=\"dataframe\">\n",
       "  <thead>\n",
       "    <tr style=\"text-align: right;\">\n",
       "      <th></th>\n",
       "      <th>date_id</th>\n",
       "      <th>anonymous_id</th>\n",
       "      <th>exp_id</th>\n",
       "    </tr>\n",
       "  </thead>\n",
       "  <tbody>\n",
       "    <tr>\n",
       "      <th>0</th>\n",
       "      <td>2020-01-16</td>\n",
       "      <td>4d005f94-e06f-493c-b569-9efb5ce4d203</td>\n",
       "      <td>NaN</td>\n",
       "    </tr>\n",
       "    <tr>\n",
       "      <th>1</th>\n",
       "      <td>2020-01-16</td>\n",
       "      <td>948ad58a-f483-4007-aa56-280aa018427b</td>\n",
       "      <td>NaN</td>\n",
       "    </tr>\n",
       "    <tr>\n",
       "      <th>2</th>\n",
       "      <td>2020-01-16</td>\n",
       "      <td>31f4f2e4-4ae6-417b-8a6d-53b98a719145</td>\n",
       "      <td>NaN</td>\n",
       "    </tr>\n",
       "    <tr>\n",
       "      <th>3</th>\n",
       "      <td>2020-01-16</td>\n",
       "      <td>24747dc7-355a-44b0-95c6-0caa91cd4ae4</td>\n",
       "      <td>NaN</td>\n",
       "    </tr>\n",
       "    <tr>\n",
       "      <th>4</th>\n",
       "      <td>2020-01-16</td>\n",
       "      <td>0162c4f8-7bc2-4432-90b9-bfb61f5e57b3</td>\n",
       "      <td>NaN</td>\n",
       "    </tr>\n",
       "  </tbody>\n",
       "</table>\n",
       "</div>"
      ],
      "text/plain": [
       "     date_id                          anonymous_id exp_id\n",
       "0 2020-01-16  4d005f94-e06f-493c-b569-9efb5ce4d203    NaN\n",
       "1 2020-01-16  948ad58a-f483-4007-aa56-280aa018427b    NaN\n",
       "2 2020-01-16  31f4f2e4-4ae6-417b-8a6d-53b98a719145    NaN\n",
       "3 2020-01-16  24747dc7-355a-44b0-95c6-0caa91cd4ae4    NaN\n",
       "4 2020-01-16  0162c4f8-7bc2-4432-90b9-bfb61f5e57b3    NaN"
      ]
     },
     "execution_count": 6,
     "metadata": {},
     "output_type": "execute_result"
    }
   ],
   "source": [
    "first_pageview.head()"
   ]
  },
  {
   "cell_type": "code",
   "execution_count": 7,
   "metadata": {},
   "outputs": [
    {
     "data": {
      "image/png": "[encoded data removed]",
      "text/plain": [
       "<Figure size 432x288 with 1 Axes>"
      ]
     },
     "metadata": {
      "needs_background": "light"
     },
     "output_type": "display_data"
    }
   ],
   "source": [
    "ax = first_pageview.groupby(\"date_id\").agg({\"anonymous_id\": \"count\"}).plot();\n",
    "ax.set_ylim((0,65000))\n",
    "ax.set_title(\"Daily First Pageviews\");"
   ]
  },
  {
   "cell_type": "code",
   "execution_count": 8,
   "metadata": {},
   "outputs": [
    {
     "data": {
      "image/png": "[encoded data removed]",
      "text/plain": [
       "<Figure size 432x288 with 1 Axes>"
      ]
     },
     "metadata": {
      "needs_background": "light"
     },
     "output_type": "display_data"
    }
   ],
   "source": [
    "ax = sns.lineplot(data=(first_pageview\n",
    "                        .fillna(0)\n",
    "                        .groupby([\"date_id\", \"exp_id\"])\n",
    "                        .agg({\"anonymous_id\": \"count\"})\n",
    "                        .rename(columns={\"anonymous_id\": \"visitors\"})\n",
    "                        .reset_index()),\n",
    "                  x=\"date_id\",\n",
    "                  y=\"visitors\",\n",
    "                  hue=\"exp_id\");\n",
    "ax.set_ylim((1000,4000));\n",
    "ax.set_title(\"Experiment Assignment\");"
   ]
  },
  {
   "cell_type": "markdown",
   "metadata": {},
   "source": [
    "**Remove `exp_id` from data before experiment begin (2020-02-01)**"
   ]
  },
  {
   "cell_type": "code",
   "execution_count": 9,
   "metadata": {},
   "outputs": [],
   "source": [
    "first_pageview.loc[first_pageview[\"date_id\"] < \"2020-02-01\", \"exp_id\"] = np.nan"
   ]
  },
  {
   "cell_type": "code",
   "execution_count": 10,
   "metadata": {},
   "outputs": [
    {
     "data": {
      "text/plain": [
       "Text(0.5, 1.0, 'Experiment Assignment')"
      ]
     },
     "execution_count": 10,
     "metadata": {},
     "output_type": "execute_result"
    },
    {
     "data": {
      "image/png": "[encoded data removed]",
      "text/plain": [
       "<Figure size 432x288 with 1 Axes>"
      ]
     },
     "metadata": {
      "needs_background": "light"
     },
     "output_type": "display_data"
    }
   ],
   "source": [
    "ax = sns.lineplot(data=(first_pageview\n",
    "                        .fillna(0)\n",
    "                        .groupby([\"date_id\", \"exp_id\"])\n",
    "                        .agg({\"anonymous_id\": \"count\"})\n",
    "                        .rename(columns={\"anonymous_id\": \"visitors\"})\n",
    "                        .reset_index()),\n",
    "                  x=\"date_id\",\n",
    "                  y=\"visitors\",\n",
    "                  hue=\"exp_id\");\n",
    "ax.set_ylim((1000,4000));\n",
    "ax.set_title(\"Experiment Assignment\")"
   ]
  },
  {
   "cell_type": "code",
   "execution_count": 11,
   "metadata": {},
   "outputs": [
    {
     "data": {
      "text/plain": [
       "0      0.931430\n",
       "101    0.034329\n",
       "102    0.034242\n",
       "Name: exp_id, dtype: float64"
      ]
     },
     "execution_count": 11,
     "metadata": {},
     "output_type": "execute_result"
    }
   ],
   "source": [
    "first_pageview[\"exp_id\"].fillna(0).value_counts(normalize=True)"
   ]
  },
  {
   "cell_type": "code",
   "execution_count": 12,
   "metadata": {},
   "outputs": [],
   "source": [
    "first_pageview.to_csv(\"data/init/first_pageviews.csv\", index=False)"
   ]
  },
  {
   "cell_type": "code",
   "execution_count": 13,
   "metadata": {},
   "outputs": [],
   "source": [
    "first_pageview.to_csv(\"data/2020-03-01/first_pageviews.csv\", index=False)"
   ]
  },
  {
   "cell_type": "markdown",
   "metadata": {},
   "source": [
    "**Create subscriptions table**"
   ]
  },
  {
   "cell_type": "code",
   "execution_count": 26,
   "metadata": {},
   "outputs": [],
   "source": [
    "# get a sample\n",
    "sample_subscribers = first_pageview.sample(frac=.01014).reset_index(drop=True)"
   ]
  },
  {
   "cell_type": "code",
   "execution_count": 27,
   "metadata": {},
   "outputs": [
    {
     "data": {
      "text/plain": [
       "0      0.928839\n",
       "102    0.037052\n",
       "101    0.034110\n",
       "Name: exp_id, dtype: float64"
      ]
     },
     "execution_count": 27,
     "metadata": {},
     "output_type": "execute_result"
    }
   ],
   "source": [
    "sample_subscribers[\"exp_id\"].fillna(0).value_counts(normalize=True)"
   ]
  },
  {
   "cell_type": "code",
   "execution_count": 28,
   "metadata": {},
   "outputs": [],
   "source": [
    "# add stochastic 'created_at'\n",
    "time_to_subscribe = pd.Series(np.random.pareto(3, len(sample_subscribers)) * 30000)"
   ]
  },
  {
   "cell_type": "code",
   "execution_count": 29,
   "metadata": {},
   "outputs": [],
   "source": [
    "time_to_subscribe = pd.to_timedelta(time_to_subscribe, unit=\"m\")"
   ]
  },
  {
   "cell_type": "code",
   "execution_count": 30,
   "metadata": {},
   "outputs": [],
   "source": [
    "sample_subscribers = sample_subscribers.assign(tts=time_to_subscribe)"
   ]
  },
  {
   "cell_type": "code",
   "execution_count": 31,
   "metadata": {},
   "outputs": [],
   "source": [
    "sample_subscribers = sample_subscribers.assign(created_at=sample_subscribers[\"date_id\"] + sample_subscribers[\"tts\"])"
   ]
  },
  {
   "cell_type": "code",
   "execution_count": 20,
   "metadata": {},
   "outputs": [
    {
     "data": {
      "text/html": [
       "<div>\n",
       "<style scoped>\n",
       "    .dataframe tbody tr th:only-of-type {\n",
       "        vertical-align: middle;\n",
       "    }\n",
       "\n",
       "    .dataframe tbody tr th {\n",
       "        vertical-align: top;\n",
       "    }\n",
       "\n",
       "    .dataframe thead th {\n",
       "        text-align: right;\n",
       "    }\n",
       "</style>\n",
       "<table border=\"1\" class=\"dataframe\">\n",
       "  <thead>\n",
       "    <tr style=\"text-align: right;\">\n",
       "      <th></th>\n",
       "      <th>date_id</th>\n",
       "      <th>anonymous_id</th>\n",
       "      <th>exp_id</th>\n",
       "      <th>tts</th>\n",
       "      <th>created_at</th>\n",
       "    </tr>\n",
       "  </thead>\n",
       "  <tbody>\n",
       "    <tr>\n",
       "      <th>0</th>\n",
       "      <td>2020-02-02</td>\n",
       "      <td>40c688f1-c252-422c-9d7a-acd5e196dcdf</td>\n",
       "      <td>101</td>\n",
       "      <td>21 days 08:49:02.357362</td>\n",
       "      <td>2020-02-23 08:49:02.357362020</td>\n",
       "    </tr>\n",
       "    <tr>\n",
       "      <th>1</th>\n",
       "      <td>2020-02-22</td>\n",
       "      <td>75b4fe58-64f2-4c05-a43a-cd786190a3d4</td>\n",
       "      <td>NaN</td>\n",
       "      <td>1 days 02:23:34.006138</td>\n",
       "      <td>2020-02-23 02:23:34.006138379</td>\n",
       "    </tr>\n",
       "    <tr>\n",
       "      <th>2</th>\n",
       "      <td>2020-01-24</td>\n",
       "      <td>e84edbeb-00b0-460c-9b2e-f0f9edc0824f</td>\n",
       "      <td>NaN</td>\n",
       "      <td>11 days 19:04:02.563345</td>\n",
       "      <td>2020-02-04 19:04:02.563345680</td>\n",
       "    </tr>\n",
       "    <tr>\n",
       "      <th>3</th>\n",
       "      <td>2020-01-22</td>\n",
       "      <td>b452d163-4ee1-45f7-8305-1ff1b1c23536</td>\n",
       "      <td>NaN</td>\n",
       "      <td>0 days 07:13:23.422204</td>\n",
       "      <td>2020-01-22 07:13:23.422204920</td>\n",
       "    </tr>\n",
       "    <tr>\n",
       "      <th>4</th>\n",
       "      <td>2020-01-25</td>\n",
       "      <td>aaf50dce-2fad-499b-aec1-3e51da3dea88</td>\n",
       "      <td>NaN</td>\n",
       "      <td>18 days 20:42:37.821111</td>\n",
       "      <td>2020-02-12 20:42:37.821111180</td>\n",
       "    </tr>\n",
       "  </tbody>\n",
       "</table>\n",
       "</div>"
      ],
      "text/plain": [
       "     date_id                          anonymous_id exp_id  \\\n",
       "0 2020-02-02  40c688f1-c252-422c-9d7a-acd5e196dcdf    101   \n",
       "1 2020-02-22  75b4fe58-64f2-4c05-a43a-cd786190a3d4    NaN   \n",
       "2 2020-01-24  e84edbeb-00b0-460c-9b2e-f0f9edc0824f    NaN   \n",
       "3 2020-01-22  b452d163-4ee1-45f7-8305-1ff1b1c23536    NaN   \n",
       "4 2020-01-25  aaf50dce-2fad-499b-aec1-3e51da3dea88    NaN   \n",
       "\n",
       "                      tts                    created_at  \n",
       "0 21 days 08:49:02.357362 2020-02-23 08:49:02.357362020  \n",
       "1  1 days 02:23:34.006138 2020-02-23 02:23:34.006138379  \n",
       "2 11 days 19:04:02.563345 2020-02-04 19:04:02.563345680  \n",
       "3  0 days 07:13:23.422204 2020-01-22 07:13:23.422204920  \n",
       "4 18 days 20:42:37.821111 2020-02-12 20:42:37.821111180  "
      ]
     },
     "execution_count": 20,
     "metadata": {},
     "output_type": "execute_result"
    }
   ],
   "source": [
    "sample_subscribers.head()"
   ]
  },
  {
   "cell_type": "code",
   "execution_count": 21,
   "metadata": {},
   "outputs": [],
   "source": [
    "# create user table\n",
    "users = sample_subscribers[[\"anonymous_id\"]].assign(user_id=create_anonymous_ids(len(sample_subscribers)))"
   ]
  },
  {
   "cell_type": "code",
   "execution_count": 22,
   "metadata": {},
   "outputs": [],
   "source": [
    "additional_users = pd.DataFrame({\"anonymous_id\": create_anonymous_ids(99999),\n",
    "                                 \"user_id\": create_anonymous_ids(99999)})"
   ]
  },
  {
   "cell_type": "code",
   "execution_count": 23,
   "metadata": {},
   "outputs": [],
   "source": [
    "users = pd.concat([users, additional_users])"
   ]
  },
  {
   "cell_type": "code",
   "execution_count": 24,
   "metadata": {},
   "outputs": [
    {
     "data": {
      "text/html": [
       "<div>\n",
       "<style scoped>\n",
       "    .dataframe tbody tr th:only-of-type {\n",
       "        vertical-align: middle;\n",
       "    }\n",
       "\n",
       "    .dataframe tbody tr th {\n",
       "        vertical-align: top;\n",
       "    }\n",
       "\n",
       "    .dataframe thead th {\n",
       "        text-align: right;\n",
       "    }\n",
       "</style>\n",
       "<table border=\"1\" class=\"dataframe\">\n",
       "  <thead>\n",
       "    <tr style=\"text-align: right;\">\n",
       "      <th></th>\n",
       "      <th>anonymous_id</th>\n",
       "      <th>user_id</th>\n",
       "    </tr>\n",
       "  </thead>\n",
       "  <tbody>\n",
       "    <tr>\n",
       "      <th>0</th>\n",
       "      <td>40c688f1-c252-422c-9d7a-acd5e196dcdf</td>\n",
       "      <td>e0d5c38c-5900-4958-8113-5c60e51ea10a</td>\n",
       "    </tr>\n",
       "    <tr>\n",
       "      <th>1</th>\n",
       "      <td>75b4fe58-64f2-4c05-a43a-cd786190a3d4</td>\n",
       "      <td>ce69b0ba-f86c-45e2-907f-463e7290eecc</td>\n",
       "    </tr>\n",
       "    <tr>\n",
       "      <th>2</th>\n",
       "      <td>e84edbeb-00b0-460c-9b2e-f0f9edc0824f</td>\n",
       "      <td>98c58ede-2f57-4674-9b14-ede3d1870ad0</td>\n",
       "    </tr>\n",
       "    <tr>\n",
       "      <th>3</th>\n",
       "      <td>b452d163-4ee1-45f7-8305-1ff1b1c23536</td>\n",
       "      <td>74e76e08-470e-4da4-bed3-32b49592b14d</td>\n",
       "    </tr>\n",
       "    <tr>\n",
       "      <th>4</th>\n",
       "      <td>aaf50dce-2fad-499b-aec1-3e51da3dea88</td>\n",
       "      <td>ec5e0a40-6600-4c36-917a-698729a5e588</td>\n",
       "    </tr>\n",
       "  </tbody>\n",
       "</table>\n",
       "</div>"
      ],
      "text/plain": [
       "                           anonymous_id                               user_id\n",
       "0  40c688f1-c252-422c-9d7a-acd5e196dcdf  e0d5c38c-5900-4958-8113-5c60e51ea10a\n",
       "1  75b4fe58-64f2-4c05-a43a-cd786190a3d4  ce69b0ba-f86c-45e2-907f-463e7290eecc\n",
       "2  e84edbeb-00b0-460c-9b2e-f0f9edc0824f  98c58ede-2f57-4674-9b14-ede3d1870ad0\n",
       "3  b452d163-4ee1-45f7-8305-1ff1b1c23536  74e76e08-470e-4da4-bed3-32b49592b14d\n",
       "4  aaf50dce-2fad-499b-aec1-3e51da3dea88  ec5e0a40-6600-4c36-917a-698729a5e588"
      ]
     },
     "execution_count": 24,
     "metadata": {},
     "output_type": "execute_result"
    }
   ],
   "source": [
    "users.head()"
   ]
  },
  {
   "cell_type": "code",
   "execution_count": 25,
   "metadata": {},
   "outputs": [],
   "source": [
    "users.to_csv(\"data/users.csv\", index=False)"
   ]
  },
  {
   "cell_type": "code",
   "execution_count": 26,
   "metadata": {},
   "outputs": [],
   "source": [
    "# translate anonymous_ids to user_ids\n",
    "subscriptions = (sample_subscribers\n",
    "                 .merge(users, how=\"inner\", on=\"anonymous_id\")\n",
    "                 [[\"user_id\", \"created_at\"]])"
   ]
  },
  {
   "cell_type": "code",
   "execution_count": 27,
   "metadata": {},
   "outputs": [],
   "source": [
    "# create random client_app column\n",
    "def create_random_client(sample_size):\n",
    "    client_app = {\"ios\": .3,\n",
    "                  \"android\": .2}\n",
    "    \n",
    "    client_apps = []\n",
    "    for client, factor in client_app.items():\n",
    "        client_apps = client_apps + [client for i in range(int(sample_size * factor))]\n",
    "        \n",
    "    client_apps = client_apps + [\"web\" for i in range(int(sample_size - len(client_apps)))]\n",
    "    random.shuffle(client_apps)\n",
    "    \n",
    "    return client_apps"
   ]
  },
  {
   "cell_type": "code",
   "execution_count": 28,
   "metadata": {},
   "outputs": [],
   "source": [
    "subscriptions = subscriptions.assign(client_app=create_random_client(len(subscriptions)))"
   ]
  },
  {
   "cell_type": "code",
   "execution_count": 30,
   "metadata": {},
   "outputs": [
    {
     "data": {
      "text/html": [
       "<div>\n",
       "<style scoped>\n",
       "    .dataframe tbody tr th:only-of-type {\n",
       "        vertical-align: middle;\n",
       "    }\n",
       "\n",
       "    .dataframe tbody tr th {\n",
       "        vertical-align: top;\n",
       "    }\n",
       "\n",
       "    .dataframe thead th {\n",
       "        text-align: right;\n",
       "    }\n",
       "</style>\n",
       "<table border=\"1\" class=\"dataframe\">\n",
       "  <thead>\n",
       "    <tr style=\"text-align: right;\">\n",
       "      <th></th>\n",
       "      <th>user_id</th>\n",
       "      <th>created_at</th>\n",
       "      <th>client_app</th>\n",
       "    </tr>\n",
       "  </thead>\n",
       "  <tbody>\n",
       "    <tr>\n",
       "      <th>0</th>\n",
       "      <td>e0d5c38c-5900-4958-8113-5c60e51ea10a</td>\n",
       "      <td>2020-02-23 08:49:02.357362020</td>\n",
       "      <td>android</td>\n",
       "    </tr>\n",
       "    <tr>\n",
       "      <th>1</th>\n",
       "      <td>ce69b0ba-f86c-45e2-907f-463e7290eecc</td>\n",
       "      <td>2020-02-23 02:23:34.006138379</td>\n",
       "      <td>ios</td>\n",
       "    </tr>\n",
       "    <tr>\n",
       "      <th>2</th>\n",
       "      <td>98c58ede-2f57-4674-9b14-ede3d1870ad0</td>\n",
       "      <td>2020-02-04 19:04:02.563345680</td>\n",
       "      <td>web</td>\n",
       "    </tr>\n",
       "    <tr>\n",
       "      <th>3</th>\n",
       "      <td>74e76e08-470e-4da4-bed3-32b49592b14d</td>\n",
       "      <td>2020-01-22 07:13:23.422204920</td>\n",
       "      <td>ios</td>\n",
       "    </tr>\n",
       "    <tr>\n",
       "      <th>4</th>\n",
       "      <td>ec5e0a40-6600-4c36-917a-698729a5e588</td>\n",
       "      <td>2020-02-12 20:42:37.821111180</td>\n",
       "      <td>android</td>\n",
       "    </tr>\n",
       "  </tbody>\n",
       "</table>\n",
       "</div>"
      ],
      "text/plain": [
       "                                user_id                    created_at  \\\n",
       "0  e0d5c38c-5900-4958-8113-5c60e51ea10a 2020-02-23 08:49:02.357362020   \n",
       "1  ce69b0ba-f86c-45e2-907f-463e7290eecc 2020-02-23 02:23:34.006138379   \n",
       "2  98c58ede-2f57-4674-9b14-ede3d1870ad0 2020-02-04 19:04:02.563345680   \n",
       "3  74e76e08-470e-4da4-bed3-32b49592b14d 2020-01-22 07:13:23.422204920   \n",
       "4  ec5e0a40-6600-4c36-917a-698729a5e588 2020-02-12 20:42:37.821111180   \n",
       "\n",
       "  client_app  \n",
       "0    android  \n",
       "1        ios  \n",
       "2        web  \n",
       "3        ios  \n",
       "4    android  "
      ]
     },
     "execution_count": 30,
     "metadata": {},
     "output_type": "execute_result"
    }
   ],
   "source": [
    "subscriptions.head()"
   ]
  },
  {
   "cell_type": "code",
   "execution_count": 31,
   "metadata": {},
   "outputs": [],
   "source": [
    "subscriptions.to_csv(\"data/subscriptions.csv\", index=False)"
   ]
  }
 ],
 "metadata": {
  "kernelspec": {
   "display_name": "Python 3",
   "language": "python",
   "name": "python3"
  },
  "language_info": {
   "codemirror_mode": {
    "name": "ipython",
    "version": 3
   },
   "file_extension": ".py",
   "mimetype": "text/x-python",
   "name": "python",
   "nbconvert_exporter": "python",
   "pygments_lexer": "ipython3",
   "version": "3.7.6"
  }
 },
 "nbformat": 4,
 "nbformat_minor": 2
}
